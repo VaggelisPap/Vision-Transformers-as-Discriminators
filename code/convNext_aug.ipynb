{
 "cells": [
  {
   "cell_type": "code",
   "execution_count": null,
   "metadata": {},
   "outputs": [],
   "source": [
    "from datasets import load_dataset\n",
    "\n",
    "dataset = load_dataset(\"imagefolder\", data_dir=\"./inpaintings_dataset\")\n",
    "\n",
    "dataset"
   ]
  },
  {
   "cell_type": "code",
   "execution_count": null,
   "metadata": {},
   "outputs": [],
   "source": [
    "from transformers import AutoImageProcessor\n",
    "import torch\n",
    "from torch.utils.data import DataLoader\n",
    "from torchvision import transforms\n",
    "\n",
    "\n",
    "image_processor = AutoImageProcessor.from_pretrained(\"facebook/convnext-tiny-224\")\n",
    "\n",
    "data_augmentation_transform = transforms.Compose([\n",
    "    transforms.RandomHorizontalFlip(p=0.5),\n",
    "    transforms.ColorJitter(brightness=0.1, contrast=0.1, saturation=0.1, hue=0.1),\n",
    "])\n",
    "\n",
    "def transform(batch):\n",
    "    augmented_images = [data_augmentation_transform(image) for image in batch['image']]\n",
    "    \n",
    "    inputs = image_processor(augmented_images, return_tensors='pt')\n",
    "\n",
    "    inputs['label'] = batch['label']\n",
    "    return inputs\n",
    "\n",
    "dataset = dataset.with_transform(transform)\n",
    "\n",
    "def collate_fn(batch):\n",
    "    return {\n",
    "        'pixel_values': torch.stack([x['pixel_values'] for x in batch]),\n",
    "        'labels': torch.tensor([x['label'] for x in batch])\n",
    "    }\n",
    "\n",
    "dataloader = DataLoader(dataset[\"train\"], collate_fn=collate_fn, batch_size=16, shuffle=True)"
   ]
  },
  {
   "cell_type": "code",
   "execution_count": null,
   "metadata": {},
   "outputs": [],
   "source": [
    "from transformers import AutoModelForImageClassification\n",
    "\n",
    "labels = dataset['train'].features['label'].names\n",
    "\n",
    "model = AutoModelForImageClassification.from_pretrained(\"facebook/convnext-tiny-224\",\n",
    "                                                        num_labels=len(labels),\n",
    "                                                        id2label={str(i): c for i, c in enumerate(labels)},\n",
    "                                                        label2id={c: str(i) for i, c in enumerate(labels)},\n",
    "                                                        ignore_mismatched_sizes=True)\n",
    "\n",
    "device = torch.device(\"cuda\" if torch.cuda.is_available() else \"cpu\")\n",
    "\n",
    "model.to(device)"
   ]
  },
  {
   "cell_type": "code",
   "execution_count": 4,
   "metadata": {},
   "outputs": [
    {
     "name": "stdout",
     "output_type": "stream",
     "text": [
      "Epoch: 0\n"
     ]
    },
    {
     "data": {
      "application/vnd.jupyter.widget-view+json": {
       "model_id": "4ceb8198af904211a9952b1f77ec6f8e",
       "version_major": 2,
       "version_minor": 0
      },
      "text/plain": [
       "  0%|          | 0/445 [00:00<?, ?it/s]"
      ]
     },
     "metadata": {},
     "output_type": "display_data"
    },
    {
     "name": "stdout",
     "output_type": "stream",
     "text": [
      "Loss after 0 steps: 0.679779052734375\n",
      "Accuracy after 0 steps: 0.5625\n",
      "Loss after 100 steps: 0.6351832151412964\n",
      "Accuracy after 100 steps: 0.5693069306930693\n",
      "Loss after 200 steps: 0.6596294641494751\n",
      "Accuracy after 200 steps: 0.6393034825870647\n",
      "Loss after 300 steps: 0.6410562992095947\n",
      "Accuracy after 300 steps: 0.6893687707641196\n",
      "Loss after 400 steps: 0.28500252962112427\n",
      "Accuracy after 400 steps: 0.7239713216957606\n",
      "Epoch: 1\n"
     ]
    },
    {
     "data": {
      "application/vnd.jupyter.widget-view+json": {
       "model_id": "cc38b74dc9f94adfb86d0112b9e11412",
       "version_major": 2,
       "version_minor": 0
      },
      "text/plain": [
       "  0%|          | 0/445 [00:00<?, ?it/s]"
      ]
     },
     "metadata": {},
     "output_type": "display_data"
    },
    {
     "name": "stdout",
     "output_type": "stream",
     "text": [
      "Loss after 0 steps: 0.22560466825962067\n",
      "Accuracy after 0 steps: 1.0\n",
      "Loss after 100 steps: 0.11359579116106033\n",
      "Accuracy after 100 steps: 0.8978960396039604\n",
      "Loss after 200 steps: 0.07939431071281433\n",
      "Accuracy after 200 steps: 0.9051616915422885\n",
      "Loss after 300 steps: 0.43160301446914673\n",
      "Accuracy after 300 steps: 0.9078073089700996\n",
      "Loss after 400 steps: 0.08040226250886917\n",
      "Accuracy after 400 steps: 0.9097568578553616\n",
      "Epoch: 2\n"
     ]
    },
    {
     "data": {
      "application/vnd.jupyter.widget-view+json": {
       "model_id": "857cdfa4d6704b74b53b6c3dab8b99dd",
       "version_major": 2,
       "version_minor": 0
      },
      "text/plain": [
       "  0%|          | 0/445 [00:00<?, ?it/s]"
      ]
     },
     "metadata": {},
     "output_type": "display_data"
    },
    {
     "name": "stdout",
     "output_type": "stream",
     "text": [
      "Loss after 0 steps: 0.03684880957007408\n",
      "Accuracy after 0 steps: 1.0\n",
      "Loss after 100 steps: 0.11592613160610199\n",
      "Accuracy after 100 steps: 0.9616336633663366\n",
      "Loss after 200 steps: 0.013061465695500374\n",
      "Accuracy after 200 steps: 0.9601990049751243\n",
      "Loss after 300 steps: 0.2720889449119568\n",
      "Accuracy after 300 steps: 0.9622093023255814\n",
      "Loss after 400 steps: 0.0074321916326880455\n",
      "Accuracy after 400 steps: 0.9608790523690773\n",
      "Epoch: 3\n"
     ]
    },
    {
     "data": {
      "application/vnd.jupyter.widget-view+json": {
       "model_id": "1334edb93ef44579a27b15fba446ead1",
       "version_major": 2,
       "version_minor": 0
      },
      "text/plain": [
       "  0%|          | 0/445 [00:00<?, ?it/s]"
      ]
     },
     "metadata": {},
     "output_type": "display_data"
    },
    {
     "name": "stdout",
     "output_type": "stream",
     "text": [
      "Loss after 0 steps: 0.1239117905497551\n",
      "Accuracy after 0 steps: 0.9375\n",
      "Loss after 100 steps: 0.04488851875066757\n",
      "Accuracy after 100 steps: 0.9727722772277227\n",
      "Loss after 200 steps: 0.02526453509926796\n",
      "Accuracy after 200 steps: 0.9763681592039801\n",
      "Loss after 300 steps: 0.019022051244974136\n",
      "Accuracy after 300 steps: 0.9746677740863787\n",
      "Loss after 400 steps: 0.04427985101938248\n",
      "Accuracy after 400 steps: 0.9744389027431422\n"
     ]
    }
   ],
   "source": [
    "from tqdm.notebook import tqdm\n",
    "\n",
    "optimizer = torch.optim.AdamW(model.parameters(), lr=5e-5)\n",
    "\n",
    "model.train()\n",
    "for epoch in range(4):\n",
    "  print(\"Epoch:\", epoch)\n",
    "  correct = 0\n",
    "  total = 0\n",
    "  for idx, batch in enumerate(tqdm(dataloader)):\n",
    "    batch = {k:v.to(device) for k,v in batch.items()}\n",
    "\n",
    "    optimizer.zero_grad()\n",
    "\n",
    "    outputs = model(pixel_values=batch[\"pixel_values\"],\n",
    "                    labels=batch[\"labels\"])\n",
    "    \n",
    "    loss, logits = outputs.loss, outputs.logits\n",
    "    loss.backward()\n",
    "    optimizer.step()\n",
    "\n",
    "    total += batch[\"labels\"].shape[0]\n",
    "    predicted = logits.argmax(-1)\n",
    "    correct += (predicted == batch[\"labels\"]).sum().item()\n",
    "\n",
    "    accuracy = correct/total\n",
    "\n",
    "    if idx % 100 == 0:\n",
    "      print(f\"Loss after {idx} steps:\", loss.item())\n",
    "      print(f\"Accuracy after {idx} steps:\", accuracy)"
   ]
  },
  {
   "cell_type": "markdown",
   "metadata": {},
   "source": [
    "Testing"
   ]
  },
  {
   "cell_type": "code",
   "execution_count": 5,
   "metadata": {},
   "outputs": [],
   "source": [
    "dataloader_test_inpaintings = DataLoader(dataset[\"test\"], collate_fn=collate_fn, batch_size=8, shuffle=True)"
   ]
  },
  {
   "cell_type": "code",
   "execution_count": 6,
   "metadata": {},
   "outputs": [
    {
     "data": {
      "application/vnd.jupyter.widget-view+json": {
       "model_id": "24b3c396a62a43b6b90765320e3cf27f",
       "version_major": 2,
       "version_minor": 0
      },
      "text/plain": [
       "  0%|          | 0/376 [00:00<?, ?it/s]"
      ]
     },
     "metadata": {},
     "output_type": "display_data"
    },
    {
     "name": "stdout",
     "output_type": "stream",
     "text": [
      "Accuracy: 0.9318\n",
      "Precision: 0.9470\n",
      "Recall: 0.9148\n",
      "F1 Score: 0.9306\n",
      "Confusion Matrix:\n",
      "[[1426   77]\n",
      " [ 128 1375]]\n"
     ]
    }
   ],
   "source": [
    "from sklearn.metrics import precision_score, recall_score, f1_score, confusion_matrix, roc_curve, auc\n",
    "import matplotlib.pyplot as plt\n",
    "\n",
    "\n",
    "total = 0\n",
    "correct = 0\n",
    "all_predicted = []\n",
    "all_labels = []\n",
    "\n",
    "for idx, batch in enumerate(tqdm(dataloader_test_inpaintings)):\n",
    "    batch = {k:v.to(device) for k,v in batch.items()}\n",
    "\n",
    "    with torch.no_grad():\n",
    "        outputs = model(pixel_values=batch[\"pixel_values\"], labels=batch[\"labels\"])\n",
    "\n",
    "    loss, logits = outputs.loss, outputs.logits\n",
    "\n",
    "    predicted = logits.argmax(-1)\n",
    "    correct += (predicted == batch[\"labels\"]).sum().item()\n",
    "    total += batch[\"labels\"].shape[0]\n",
    "\n",
    "    all_predicted.extend(predicted.cpu().numpy())\n",
    "    all_labels.extend(batch[\"labels\"].cpu().numpy())\n",
    "\n",
    "\n",
    "accuracy = correct/total\n",
    "\n",
    "precision = precision_score(all_labels, all_predicted)\n",
    "recall = recall_score(all_labels, all_predicted)\n",
    "f1 = f1_score(all_labels, all_predicted)\n",
    "\n",
    "labels = ['True Negative', 'False Positive', 'False Negative', 'True Positive']\n",
    "conf_matrix = confusion_matrix(all_labels, all_predicted)\n",
    "\n",
    "plt.show()\n",
    "print(f\"Accuracy: {accuracy:.4f}\")\n",
    "print(f\"Precision: {precision:.4f}\")\n",
    "print(f\"Recall: {recall:.4f}\")\n",
    "print(f\"F1 Score: {f1:.4f}\")\n",
    "print(f\"Confusion Matrix:\\n{conf_matrix}\")\n"
   ]
  }
 ],
 "metadata": {
  "kernelspec": {
   "display_name": "Python 3",
   "language": "python",
   "name": "python3"
  },
  "language_info": {
   "codemirror_mode": {
    "name": "ipython",
    "version": 3
   },
   "file_extension": ".py",
   "mimetype": "text/x-python",
   "name": "python",
   "nbconvert_exporter": "python",
   "pygments_lexer": "ipython3",
   "version": "3.10.12"
  }
 },
 "nbformat": 4,
 "nbformat_minor": 2
}
