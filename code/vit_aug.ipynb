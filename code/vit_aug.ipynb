{
 "cells": [
  {
   "cell_type": "code",
   "execution_count": null,
   "metadata": {},
   "outputs": [],
   "source": [
    "from datasets import load_dataset\n",
    "\n",
    "dataset = load_dataset(\"imagefolder\", data_dir=\"./inpaintings_dataset\")\n",
    "\n",
    "dataset"
   ]
  },
  {
   "cell_type": "code",
   "execution_count": 2,
   "metadata": {},
   "outputs": [],
   "source": [
    "from transformers import AutoImageProcessor\n",
    "import torch\n",
    "from torch.utils.data import DataLoader\n",
    "from torchvision import transforms\n",
    "\n",
    "\n",
    "image_processor = AutoImageProcessor.from_pretrained(\"google/vit-base-patch16-224\")\n",
    "\n",
    "data_augmentation_transform = transforms.Compose([\n",
    "    transforms.RandomHorizontalFlip(p=0.5),\n",
    "    transforms.ColorJitter(brightness=0.1, contrast=0.1, saturation=0.1, hue=0.1),\n",
    "])\n",
    "\n",
    "def transform(batch):\n",
    "    augmented_images = [data_augmentation_transform(image) for image in batch['image']]\n",
    "    \n",
    "    inputs = image_processor(augmented_images, return_tensors='pt')\n",
    "\n",
    "    inputs['label'] = batch['label']\n",
    "    return inputs\n",
    "\n",
    "dataset = dataset.with_transform(transform)\n",
    "\n",
    "def collate_fn(batch):\n",
    "    return {\n",
    "        'pixel_values': torch.stack([x['pixel_values'] for x in batch]),\n",
    "        'labels': torch.tensor([x['label'] for x in batch])\n",
    "    }\n",
    "\n",
    "dataloader = DataLoader(dataset[\"train\"], collate_fn=collate_fn, batch_size=8, shuffle=True)"
   ]
  },
  {
   "cell_type": "code",
   "execution_count": null,
   "metadata": {},
   "outputs": [],
   "source": [
    "from transformers import AutoModelForImageClassification\n",
    "\n",
    "labels = dataset['train'].features['label'].names\n",
    "\n",
    "model = AutoModelForImageClassification.from_pretrained(\"google/vit-base-patch16-224\",\n",
    "                                                        num_labels=len(labels),\n",
    "                                                        id2label={str(i): c for i, c in enumerate(labels)},\n",
    "                                                        label2id={c: str(i) for i, c in enumerate(labels)},\n",
    "                                                        ignore_mismatched_sizes=True)\n",
    "\n",
    "device = torch.device(\"cuda\" if torch.cuda.is_available() else \"cpu\")\n",
    "\n",
    "model.to(device)"
   ]
  },
  {
   "cell_type": "code",
   "execution_count": 4,
   "metadata": {},
   "outputs": [
    {
     "name": "stdout",
     "output_type": "stream",
     "text": [
      "Epoch: 0\n"
     ]
    },
    {
     "data": {
      "application/vnd.jupyter.widget-view+json": {
       "model_id": "bd93e784fdbd45ceb6720bc58c63b3d4",
       "version_major": 2,
       "version_minor": 0
      },
      "text/plain": [
       "  0%|          | 0/890 [00:00<?, ?it/s]"
      ]
     },
     "metadata": {},
     "output_type": "display_data"
    },
    {
     "name": "stdout",
     "output_type": "stream",
     "text": [
      "Loss after 0 steps: 0.7425731420516968\n",
      "Accuracy after 0 steps: 0.625\n",
      "Loss after 100 steps: 0.5238525867462158\n",
      "Accuracy after 100 steps: 0.6287128712871287\n",
      "Loss after 200 steps: 0.4505392014980316\n",
      "Accuracy after 200 steps: 0.6660447761194029\n",
      "Loss after 300 steps: 0.623492419719696\n",
      "Accuracy after 300 steps: 0.6955980066445183\n",
      "Loss after 400 steps: 0.24400413036346436\n",
      "Accuracy after 400 steps: 0.7119700748129676\n",
      "Loss after 500 steps: 0.3421115279197693\n",
      "Accuracy after 500 steps: 0.7285429141716567\n",
      "Loss after 600 steps: 0.18491344153881073\n",
      "Accuracy after 600 steps: 0.7414725457570716\n",
      "Loss after 700 steps: 0.27132880687713623\n",
      "Accuracy after 700 steps: 0.7496433666191156\n",
      "Loss after 800 steps: 0.3528473675251007\n",
      "Accuracy after 800 steps: 0.7571785268414482\n",
      "Epoch: 1\n"
     ]
    },
    {
     "data": {
      "application/vnd.jupyter.widget-view+json": {
       "model_id": "83a90bf5cf3544ea93fda44b3e24f6a7",
       "version_major": 2,
       "version_minor": 0
      },
      "text/plain": [
       "  0%|          | 0/890 [00:00<?, ?it/s]"
      ]
     },
     "metadata": {},
     "output_type": "display_data"
    },
    {
     "name": "stdout",
     "output_type": "stream",
     "text": [
      "Loss after 0 steps: 0.3223284184932709\n",
      "Accuracy after 0 steps: 0.875\n",
      "Loss after 100 steps: 0.15442070364952087\n",
      "Accuracy after 100 steps: 0.8650990099009901\n",
      "Loss after 200 steps: 0.34044331312179565\n",
      "Accuracy after 200 steps: 0.8706467661691543\n",
      "Loss after 300 steps: 0.05778809264302254\n",
      "Accuracy after 300 steps: 0.8679401993355482\n",
      "Loss after 400 steps: 0.22335697710514069\n",
      "Accuracy after 400 steps: 0.8690773067331671\n",
      "Loss after 500 steps: 0.4026683270931244\n",
      "Accuracy after 500 steps: 0.8705089820359282\n",
      "Loss after 600 steps: 0.23129986226558685\n",
      "Accuracy after 600 steps: 0.8739600665557404\n",
      "Loss after 700 steps: 0.07520920038223267\n",
      "Accuracy after 700 steps: 0.8744650499286734\n",
      "Loss after 800 steps: 0.05939134210348129\n",
      "Accuracy after 800 steps: 0.8740636704119851\n",
      "Epoch: 2\n"
     ]
    },
    {
     "data": {
      "application/vnd.jupyter.widget-view+json": {
       "model_id": "ed3dfdfecc364f43a9d0aa736fe21fac",
       "version_major": 2,
       "version_minor": 0
      },
      "text/plain": [
       "  0%|          | 0/890 [00:00<?, ?it/s]"
      ]
     },
     "metadata": {},
     "output_type": "display_data"
    },
    {
     "name": "stdout",
     "output_type": "stream",
     "text": [
      "Loss after 0 steps: 0.5150290131568909\n",
      "Accuracy after 0 steps: 0.75\n",
      "Loss after 100 steps: 0.026053674519062042\n",
      "Accuracy after 100 steps: 0.9393564356435643\n",
      "Loss after 200 steps: 0.024980856105685234\n",
      "Accuracy after 200 steps: 0.9458955223880597\n",
      "Loss after 300 steps: 0.800285816192627\n",
      "Accuracy after 300 steps: 0.9289867109634552\n",
      "Loss after 400 steps: 0.075662761926651\n",
      "Accuracy after 400 steps: 0.9248753117206983\n",
      "Loss after 500 steps: 0.11949513107538223\n",
      "Accuracy after 500 steps: 0.9281437125748503\n",
      "Loss after 600 steps: 0.160184845328331\n",
      "Accuracy after 600 steps: 0.927828618968386\n",
      "Loss after 700 steps: 0.709733247756958\n",
      "Accuracy after 700 steps: 0.925641940085592\n",
      "Loss after 800 steps: 0.035977721214294434\n",
      "Accuracy after 800 steps: 0.9257178526841449\n",
      "Epoch: 3\n"
     ]
    },
    {
     "data": {
      "application/vnd.jupyter.widget-view+json": {
       "model_id": "0d5c8c57cd17431180a0e44cde57cb2e",
       "version_major": 2,
       "version_minor": 0
      },
      "text/plain": [
       "  0%|          | 0/890 [00:00<?, ?it/s]"
      ]
     },
     "metadata": {},
     "output_type": "display_data"
    },
    {
     "name": "stdout",
     "output_type": "stream",
     "text": [
      "Loss after 0 steps: 0.054333530366420746\n",
      "Accuracy after 0 steps: 1.0\n",
      "Loss after 100 steps: 0.15633687376976013\n",
      "Accuracy after 100 steps: 0.9616336633663366\n",
      "Loss after 200 steps: 0.008315585553646088\n",
      "Accuracy after 200 steps: 0.9595771144278606\n",
      "Loss after 300 steps: 0.015616951510310173\n",
      "Accuracy after 300 steps: 0.9580564784053156\n",
      "Loss after 400 steps: 0.12005084753036499\n",
      "Accuracy after 400 steps: 0.956359102244389\n",
      "Loss after 500 steps: 0.044057004153728485\n",
      "Accuracy after 500 steps: 0.9568363273453094\n",
      "Loss after 600 steps: 0.10863806307315826\n",
      "Accuracy after 600 steps: 0.9534109816971714\n",
      "Loss after 700 steps: 0.005595153197646141\n",
      "Accuracy after 700 steps: 0.9518544935805991\n",
      "Loss after 800 steps: 0.014289742335677147\n",
      "Accuracy after 800 steps: 0.950374531835206\n"
     ]
    }
   ],
   "source": [
    "from tqdm.notebook import tqdm\n",
    "\n",
    "optimizer = torch.optim.AdamW(model.parameters(), lr=5e-5)\n",
    "\n",
    "model.train()\n",
    "for epoch in range(4):\n",
    "  print(\"Epoch:\", epoch)\n",
    "  correct = 0\n",
    "  total = 0\n",
    "  for idx, batch in enumerate(tqdm(dataloader)):\n",
    "    batch = {k:v.to(device) for k,v in batch.items()}\n",
    "\n",
    "    optimizer.zero_grad()\n",
    "\n",
    "    outputs = model(pixel_values=batch[\"pixel_values\"],\n",
    "                    labels=batch[\"labels\"])\n",
    "    \n",
    "    loss, logits = outputs.loss, outputs.logits\n",
    "    loss.backward()\n",
    "    optimizer.step()\n",
    "\n",
    "    total += batch[\"labels\"].shape[0]\n",
    "    predicted = logits.argmax(-1)\n",
    "    correct += (predicted == batch[\"labels\"]).sum().item()\n",
    "\n",
    "    accuracy = correct/total\n",
    "\n",
    "    if idx % 100 == 0:\n",
    "      print(f\"Loss after {idx} steps:\", loss.item())\n",
    "      print(f\"Accuracy after {idx} steps:\", accuracy)"
   ]
  },
  {
   "cell_type": "markdown",
   "metadata": {},
   "source": [
    "Testing"
   ]
  },
  {
   "cell_type": "code",
   "execution_count": 5,
   "metadata": {},
   "outputs": [],
   "source": [
    "dataloader_test_inpaintings = DataLoader(dataset[\"test\"], collate_fn=collate_fn, batch_size=8, shuffle=True)"
   ]
  },
  {
   "cell_type": "code",
   "execution_count": 6,
   "metadata": {},
   "outputs": [
    {
     "data": {
      "application/vnd.jupyter.widget-view+json": {
       "model_id": "e7ce23e049ee48c98e27db46fa93b971",
       "version_major": 2,
       "version_minor": 0
      },
      "text/plain": [
       "  0%|          | 0/376 [00:00<?, ?it/s]"
      ]
     },
     "metadata": {},
     "output_type": "display_data"
    },
    {
     "name": "stdout",
     "output_type": "stream",
     "text": [
      "Accuracy: 0.8543\n",
      "Precision: 0.8878\n",
      "Recall: 0.8110\n",
      "F1 Score: 0.8477\n",
      "Confusion Matrix:\n",
      "[[1349  154]\n",
      " [ 284 1219]]\n"
     ]
    }
   ],
   "source": [
    "from sklearn.metrics import precision_score, recall_score, f1_score, confusion_matrix, roc_curve, auc\n",
    "import matplotlib.pyplot as plt\n",
    "\n",
    "\n",
    "total = 0\n",
    "correct = 0\n",
    "all_predicted = []\n",
    "all_labels = []\n",
    "\n",
    "for idx, batch in enumerate(tqdm(dataloader_test_inpaintings)):\n",
    "    batch = {k:v.to(device) for k,v in batch.items()}\n",
    "\n",
    "    with torch.no_grad():\n",
    "        outputs = model(pixel_values=batch[\"pixel_values\"], labels=batch[\"labels\"])\n",
    "\n",
    "    loss, logits = outputs.loss, outputs.logits\n",
    "\n",
    "    predicted = logits.argmax(-1)\n",
    "    correct += (predicted == batch[\"labels\"]).sum().item()\n",
    "    total += batch[\"labels\"].shape[0]\n",
    "\n",
    "    all_predicted.extend(predicted.cpu().numpy())\n",
    "    all_labels.extend(batch[\"labels\"].cpu().numpy())\n",
    "\n",
    "\n",
    "accuracy = correct/total\n",
    "\n",
    "precision = precision_score(all_labels, all_predicted)\n",
    "recall = recall_score(all_labels, all_predicted)\n",
    "f1 = f1_score(all_labels, all_predicted)\n",
    "\n",
    "labels = ['True Negative', 'False Positive', 'False Negative', 'True Positive']\n",
    "conf_matrix = confusion_matrix(all_labels, all_predicted)\n",
    "\n",
    "plt.show()\n",
    "print(f\"Accuracy: {accuracy:.4f}\")\n",
    "print(f\"Precision: {precision:.4f}\")\n",
    "print(f\"Recall: {recall:.4f}\")\n",
    "print(f\"F1 Score: {f1:.4f}\")\n",
    "print(f\"Confusion Matrix:\\n{conf_matrix}\")\n"
   ]
  }
 ],
 "metadata": {
  "kernelspec": {
   "display_name": "Python 3",
   "language": "python",
   "name": "python3"
  },
  "language_info": {
   "codemirror_mode": {
    "name": "ipython",
    "version": 3
   },
   "file_extension": ".py",
   "mimetype": "text/x-python",
   "name": "python",
   "nbconvert_exporter": "python",
   "pygments_lexer": "ipython3",
   "version": "3.10.12"
  }
 },
 "nbformat": 4,
 "nbformat_minor": 2
}
